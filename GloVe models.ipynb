{
 "cells": [
  {
   "cell_type": "markdown",
   "metadata": {},
   "source": [
    "# GloVe Models\n",
    "\n",
    "This notebook is where I run all models that use the GloVe embedding.\n",
    "\n",
    "## Setup"
   ]
  },
  {
   "cell_type": "code",
   "execution_count": 1,
   "metadata": {},
   "outputs": [
    {
     "name": "stderr",
     "output_type": "stream",
     "text": [
      "Using TensorFlow backend.\n"
     ]
    },
    {
     "name": "stdout",
     "output_type": "stream",
     "text": [
      "clean\n",
      "Text is clean\n",
      "clean\n",
      "Text is clean\n",
      "[[ 0.          0.          0.         ...,  0.          0.          0.        ]\n",
      " [ 0.27204001 -0.06203    -0.1884     ...,  0.13015001 -0.18317001  0.1323    ]\n",
      " [ 0.31924     0.06316    -0.27858001 ...,  0.082745    0.097801\n",
      "   0.25044999]\n",
      " ..., \n",
      " [ 0.          0.          0.         ...,  0.          0.          0.        ]\n",
      " [ 0.          0.          0.         ...,  0.          0.          0.        ]\n",
      " [ 0.          0.          0.         ...,  0.          0.          0.        ]]\n"
     ]
    }
   ],
   "source": [
    "import numpy as np\n",
    "import pandas as pd\n",
    "\n",
    "from architectures import BidAttentionLstm, BidMaxPoolGru\n",
    "from helpers import make_df, make_glovevec, predict_and_save\n",
    "\n",
    "from sklearn.model_selection import train_test_split\n",
    "\n",
    "np.random.seed(7)\n",
    "\n",
    "max_features = 100000\n",
    "maxlen = 150\n",
    "embed_size = 300\n",
    "list_classes = [\"toxic\", \"severe_toxic\", \"obscene\", \"threat\", \"insult\",\n",
    "                \"identity_hate\"]\n",
    "\n",
    "xtr, xte, y, word_index = make_df(\"./input/train.csv\",\n",
    "                                  \"./input/test.csv\",\n",
    "                                  max_features, maxlen, list_classes)\n",
    "\n",
    "\n",
    "\n",
    "embedding_vector = make_glovevec(\"./input/glove.840B.300d.txt\",\n",
    "                                 max_features, embed_size, word_index)\n",
    "\n",
    "[xtr, xval, y, yval] = train_test_split(xtr, y, train_size=0.90, random_state=233)\n"
   ]
  },
  {
   "cell_type": "markdown",
   "metadata": {},
   "source": [
    "## Callbacks"
   ]
  },
  {
   "cell_type": "code",
   "execution_count": 2,
   "metadata": {
    "collapsed": true
   },
   "outputs": [],
   "source": [
    "from helpers import RocAucEvaluation\n",
    "from keras.callbacks import EarlyStopping, ModelCheckpoint\n",
    "\n",
    "file_path = \"./modelckpts/.model.{epoch:02d}.hdf5\"\n",
    "\n",
    "ckpt = ModelCheckpoint(file_path, monitor='val_loss', verbose=2,\n",
    "                        mode='min')\n",
    "# I've decided not to use Early Stopping, since it doesn't monitor ROC/AUC score.\n",
    "early = EarlyStopping(monitor=\"val_loss\", mode=\"min\", patience=3)\n",
    "roc = RocAucEvaluation(validation_data=(xval, yval), interval=1)"
   ]
  },
  {
   "cell_type": "markdown",
   "metadata": {},
   "source": [
    "# Run Bidirectional LSTM model with Attention"
   ]
  },
  {
   "cell_type": "code",
   "execution_count": null,
   "metadata": {
    "collapsed": true
   },
   "outputs": [],
   "source": [
    "model = BidAttentionLstm(maxlen, max_features, embed_size, embedding_vector)\n"
   ]
  },
  {
   "cell_type": "code",
   "execution_count": 5,
   "metadata": {},
   "outputs": [
    {
     "name": "stdout",
     "output_type": "stream",
     "text": [
      "Train on 143613 samples, validate on 15958 samples\n",
      "Epoch 1/30\n",
      "\n",
      "Epoch 00001: saving model to ./modelckpts/.model.01.hdf5\n",
      "\n",
      " ROC-AUC - epoch: 1 - score: 0.990168 \n",
      "\n",
      " - 185s - loss: 0.0365 - acc: 0.9856 - val_loss: 0.0413 - val_acc: 0.9838\n",
      "Epoch 2/30\n",
      "\n",
      "Epoch 00002: saving model to ./modelckpts/.model.02.hdf5\n",
      "\n",
      " ROC-AUC - epoch: 2 - score: 0.989938 \n",
      "\n",
      " - 183s - loss: 0.0362 - acc: 0.9857 - val_loss: 0.0413 - val_acc: 0.9839\n",
      "Epoch 3/30\n",
      "\n",
      "Epoch 00003: saving model to ./modelckpts/.model.03.hdf5\n",
      "\n",
      " ROC-AUC - epoch: 3 - score: 0.989451 \n",
      "\n",
      " - 183s - loss: 0.0354 - acc: 0.9858 - val_loss: 0.0422 - val_acc: 0.9840\n",
      "Epoch 4/30\n",
      "\n",
      "Epoch 00004: saving model to ./modelckpts/.model.04.hdf5\n",
      "\n",
      " ROC-AUC - epoch: 4 - score: 0.989511 \n",
      "\n",
      " - 183s - loss: 0.0346 - acc: 0.9862 - val_loss: 0.0416 - val_acc: 0.9840\n",
      "Epoch 5/30\n",
      "\n",
      "Epoch 00005: saving model to ./modelckpts/.model.05.hdf5\n",
      "\n",
      " ROC-AUC - epoch: 5 - score: 0.989913 \n",
      "\n",
      " - 183s - loss: 0.0342 - acc: 0.9864 - val_loss: 0.0422 - val_acc: 0.9839\n",
      "Epoch 6/30\n",
      "\n",
      "Epoch 00006: saving model to ./modelckpts/.model.06.hdf5\n",
      "\n",
      " ROC-AUC - epoch: 6 - score: 0.989405 \n",
      "\n",
      " - 182s - loss: 0.0338 - acc: 0.9863 - val_loss: 0.0421 - val_acc: 0.9839\n",
      "Epoch 7/30\n",
      "\n",
      "Epoch 00007: saving model to ./modelckpts/.model.07.hdf5\n",
      "\n",
      " ROC-AUC - epoch: 7 - score: 0.989781 \n",
      "\n",
      " - 182s - loss: 0.0332 - acc: 0.9866 - val_loss: 0.0425 - val_acc: 0.9838\n",
      "Epoch 8/30\n",
      "\n",
      "Epoch 00008: saving model to ./modelckpts/.model.08.hdf5\n",
      "\n",
      " ROC-AUC - epoch: 8 - score: 0.989181 \n",
      "\n",
      " - 182s - loss: 0.0328 - acc: 0.9866 - val_loss: 0.0452 - val_acc: 0.9826\n",
      "Epoch 9/30\n",
      "\n",
      "Epoch 00009: saving model to ./modelckpts/.model.09.hdf5\n",
      "\n",
      " ROC-AUC - epoch: 9 - score: 0.989016 \n",
      "\n",
      " - 182s - loss: 0.0321 - acc: 0.9870 - val_loss: 0.0439 - val_acc: 0.9834\n",
      "Epoch 10/30\n",
      "\n",
      "Epoch 00010: saving model to ./modelckpts/.model.10.hdf5\n",
      "\n",
      " ROC-AUC - epoch: 10 - score: 0.989266 \n",
      "\n",
      " - 182s - loss: 0.0314 - acc: 0.9872 - val_loss: 0.0449 - val_acc: 0.9832\n",
      "Epoch 11/30\n",
      "\n",
      "Epoch 00011: saving model to ./modelckpts/.model.11.hdf5\n",
      "\n",
      " ROC-AUC - epoch: 11 - score: 0.989006 \n",
      "\n",
      " - 182s - loss: 0.0310 - acc: 0.9875 - val_loss: 0.0455 - val_acc: 0.9832\n",
      "Epoch 12/30\n",
      "\n",
      "Epoch 00012: saving model to ./modelckpts/.model.12.hdf5\n",
      "\n",
      " ROC-AUC - epoch: 12 - score: 0.989072 \n",
      "\n",
      " - 182s - loss: 0.0305 - acc: 0.9875 - val_loss: 0.0445 - val_acc: 0.9837\n",
      "Epoch 13/30\n",
      "\n",
      "Epoch 00013: saving model to ./modelckpts/.model.13.hdf5\n",
      "\n",
      " ROC-AUC - epoch: 13 - score: 0.988664 \n",
      "\n",
      " - 183s - loss: 0.0301 - acc: 0.9876 - val_loss: 0.0453 - val_acc: 0.9825\n",
      "Epoch 14/30\n",
      "\n",
      "Epoch 00014: saving model to ./modelckpts/.model.14.hdf5\n",
      "\n",
      " ROC-AUC - epoch: 14 - score: 0.989044 \n",
      "\n",
      " - 182s - loss: 0.0295 - acc: 0.9880 - val_loss: 0.0450 - val_acc: 0.9832\n",
      "Epoch 15/30\n",
      "\n",
      "Epoch 00015: saving model to ./modelckpts/.model.15.hdf5\n",
      "\n",
      " ROC-AUC - epoch: 15 - score: 0.988601 \n",
      "\n",
      " - 183s - loss: 0.0290 - acc: 0.9882 - val_loss: 0.0457 - val_acc: 0.9830\n",
      "Epoch 16/30\n",
      "\n",
      "Epoch 00016: saving model to ./modelckpts/.model.16.hdf5\n",
      "\n",
      " ROC-AUC - epoch: 16 - score: 0.989194 \n",
      "\n",
      " - 183s - loss: 0.0285 - acc: 0.9884 - val_loss: 0.0468 - val_acc: 0.9830\n",
      "Epoch 17/30\n",
      "\n",
      "Epoch 00017: saving model to ./modelckpts/.model.17.hdf5\n",
      "\n",
      " ROC-AUC - epoch: 17 - score: 0.987968 \n",
      "\n",
      " - 183s - loss: 0.0280 - acc: 0.9884 - val_loss: 0.0470 - val_acc: 0.9834\n",
      "Epoch 18/30\n",
      "\n",
      "Epoch 00018: saving model to ./modelckpts/.model.18.hdf5\n",
      "\n",
      " ROC-AUC - epoch: 18 - score: 0.987694 \n",
      "\n",
      " - 183s - loss: 0.0276 - acc: 0.9888 - val_loss: 0.0470 - val_acc: 0.9824\n",
      "Epoch 19/30\n",
      "\n",
      "Epoch 00019: saving model to ./modelckpts/.model.19.hdf5\n",
      "\n",
      " ROC-AUC - epoch: 19 - score: 0.987299 \n",
      "\n",
      " - 184s - loss: 0.0272 - acc: 0.9888 - val_loss: 0.0484 - val_acc: 0.9827\n",
      "Epoch 20/30\n"
     ]
    },
    {
     "ename": "KeyboardInterrupt",
     "evalue": "",
     "output_type": "error",
     "traceback": [
      "\u001b[0;31m---------------------------------------------------------------------------\u001b[0m",
      "\u001b[0;31mKeyboardInterrupt\u001b[0m                         Traceback (most recent call last)",
      "\u001b[0;32m<ipython-input-5-13efbed249ea>\u001b[0m in \u001b[0;36m<module>\u001b[0;34m()\u001b[0m\n\u001b[1;32m      1\u001b[0m model.fit(xtr, y, batch_size=512, epochs=30, validation_data=(xval, yval),\n\u001b[0;32m----> 2\u001b[0;31m           callbacks=[ckpt, roc], verbose=2)\n\u001b[0m",
      "\u001b[0;32m/media/alecbranaa/8088a718-9240-4c37-92a5-1b9b8cec8375/miniconda3/envs/aind-dl/lib/python3.6/site-packages/keras/engine/training.py\u001b[0m in \u001b[0;36mfit\u001b[0;34m(self, x, y, batch_size, epochs, verbose, callbacks, validation_split, validation_data, shuffle, class_weight, sample_weight, initial_epoch, steps_per_epoch, validation_steps, **kwargs)\u001b[0m\n\u001b[1;32m   1667\u001b[0m                               \u001b[0minitial_epoch\u001b[0m\u001b[0;34m=\u001b[0m\u001b[0minitial_epoch\u001b[0m\u001b[0;34m,\u001b[0m\u001b[0;34m\u001b[0m\u001b[0m\n\u001b[1;32m   1668\u001b[0m                               \u001b[0msteps_per_epoch\u001b[0m\u001b[0;34m=\u001b[0m\u001b[0msteps_per_epoch\u001b[0m\u001b[0;34m,\u001b[0m\u001b[0;34m\u001b[0m\u001b[0m\n\u001b[0;32m-> 1669\u001b[0;31m                               validation_steps=validation_steps)\n\u001b[0m\u001b[1;32m   1670\u001b[0m \u001b[0;34m\u001b[0m\u001b[0m\n\u001b[1;32m   1671\u001b[0m     def evaluate(self, x=None, y=None,\n",
      "\u001b[0;32m/media/alecbranaa/8088a718-9240-4c37-92a5-1b9b8cec8375/miniconda3/envs/aind-dl/lib/python3.6/site-packages/keras/engine/training.py\u001b[0m in \u001b[0;36m_fit_loop\u001b[0;34m(self, f, ins, out_labels, batch_size, epochs, verbose, callbacks, val_f, val_ins, shuffle, callback_metrics, initial_epoch, steps_per_epoch, validation_steps)\u001b[0m\n\u001b[1;32m   1204\u001b[0m                         \u001b[0mins_batch\u001b[0m\u001b[0;34m[\u001b[0m\u001b[0mi\u001b[0m\u001b[0;34m]\u001b[0m \u001b[0;34m=\u001b[0m \u001b[0mins_batch\u001b[0m\u001b[0;34m[\u001b[0m\u001b[0mi\u001b[0m\u001b[0;34m]\u001b[0m\u001b[0;34m.\u001b[0m\u001b[0mtoarray\u001b[0m\u001b[0;34m(\u001b[0m\u001b[0;34m)\u001b[0m\u001b[0;34m\u001b[0m\u001b[0m\n\u001b[1;32m   1205\u001b[0m \u001b[0;34m\u001b[0m\u001b[0m\n\u001b[0;32m-> 1206\u001b[0;31m                     \u001b[0mouts\u001b[0m \u001b[0;34m=\u001b[0m \u001b[0mf\u001b[0m\u001b[0;34m(\u001b[0m\u001b[0mins_batch\u001b[0m\u001b[0;34m)\u001b[0m\u001b[0;34m\u001b[0m\u001b[0m\n\u001b[0m\u001b[1;32m   1207\u001b[0m                     \u001b[0;32mif\u001b[0m \u001b[0;32mnot\u001b[0m \u001b[0misinstance\u001b[0m\u001b[0;34m(\u001b[0m\u001b[0mouts\u001b[0m\u001b[0;34m,\u001b[0m \u001b[0mlist\u001b[0m\u001b[0;34m)\u001b[0m\u001b[0;34m:\u001b[0m\u001b[0;34m\u001b[0m\u001b[0m\n\u001b[1;32m   1208\u001b[0m                         \u001b[0mouts\u001b[0m \u001b[0;34m=\u001b[0m \u001b[0;34m[\u001b[0m\u001b[0mouts\u001b[0m\u001b[0;34m]\u001b[0m\u001b[0;34m\u001b[0m\u001b[0m\n",
      "\u001b[0;32m/media/alecbranaa/8088a718-9240-4c37-92a5-1b9b8cec8375/miniconda3/envs/aind-dl/lib/python3.6/site-packages/keras/backend/tensorflow_backend.py\u001b[0m in \u001b[0;36m__call__\u001b[0;34m(self, inputs)\u001b[0m\n\u001b[1;32m   2473\u001b[0m         \u001b[0msession\u001b[0m \u001b[0;34m=\u001b[0m \u001b[0mget_session\u001b[0m\u001b[0;34m(\u001b[0m\u001b[0;34m)\u001b[0m\u001b[0;34m\u001b[0m\u001b[0m\n\u001b[1;32m   2474\u001b[0m         updated = session.run(fetches=fetches, feed_dict=feed_dict,\n\u001b[0;32m-> 2475\u001b[0;31m                               **self.session_kwargs)\n\u001b[0m\u001b[1;32m   2476\u001b[0m         \u001b[0;32mreturn\u001b[0m \u001b[0mupdated\u001b[0m\u001b[0;34m[\u001b[0m\u001b[0;34m:\u001b[0m\u001b[0mlen\u001b[0m\u001b[0;34m(\u001b[0m\u001b[0mself\u001b[0m\u001b[0;34m.\u001b[0m\u001b[0moutputs\u001b[0m\u001b[0;34m)\u001b[0m\u001b[0;34m]\u001b[0m\u001b[0;34m\u001b[0m\u001b[0m\n\u001b[1;32m   2477\u001b[0m \u001b[0;34m\u001b[0m\u001b[0m\n",
      "\u001b[0;32m/media/alecbranaa/8088a718-9240-4c37-92a5-1b9b8cec8375/miniconda3/envs/aind-dl/lib/python3.6/site-packages/tensorflow/python/client/session.py\u001b[0m in \u001b[0;36mrun\u001b[0;34m(self, fetches, feed_dict, options, run_metadata)\u001b[0m\n\u001b[1;32m    887\u001b[0m     \u001b[0;32mtry\u001b[0m\u001b[0;34m:\u001b[0m\u001b[0;34m\u001b[0m\u001b[0m\n\u001b[1;32m    888\u001b[0m       result = self._run(None, fetches, feed_dict, options_ptr,\n\u001b[0;32m--> 889\u001b[0;31m                          run_metadata_ptr)\n\u001b[0m\u001b[1;32m    890\u001b[0m       \u001b[0;32mif\u001b[0m \u001b[0mrun_metadata\u001b[0m\u001b[0;34m:\u001b[0m\u001b[0;34m\u001b[0m\u001b[0m\n\u001b[1;32m    891\u001b[0m         \u001b[0mproto_data\u001b[0m \u001b[0;34m=\u001b[0m \u001b[0mtf_session\u001b[0m\u001b[0;34m.\u001b[0m\u001b[0mTF_GetBuffer\u001b[0m\u001b[0;34m(\u001b[0m\u001b[0mrun_metadata_ptr\u001b[0m\u001b[0;34m)\u001b[0m\u001b[0;34m\u001b[0m\u001b[0m\n",
      "\u001b[0;32m/media/alecbranaa/8088a718-9240-4c37-92a5-1b9b8cec8375/miniconda3/envs/aind-dl/lib/python3.6/site-packages/tensorflow/python/client/session.py\u001b[0m in \u001b[0;36m_run\u001b[0;34m(self, handle, fetches, feed_dict, options, run_metadata)\u001b[0m\n\u001b[1;32m   1118\u001b[0m     \u001b[0;32mif\u001b[0m \u001b[0mfinal_fetches\u001b[0m \u001b[0;32mor\u001b[0m \u001b[0mfinal_targets\u001b[0m \u001b[0;32mor\u001b[0m \u001b[0;34m(\u001b[0m\u001b[0mhandle\u001b[0m \u001b[0;32mand\u001b[0m \u001b[0mfeed_dict_tensor\u001b[0m\u001b[0;34m)\u001b[0m\u001b[0;34m:\u001b[0m\u001b[0;34m\u001b[0m\u001b[0m\n\u001b[1;32m   1119\u001b[0m       results = self._do_run(handle, final_targets, final_fetches,\n\u001b[0;32m-> 1120\u001b[0;31m                              feed_dict_tensor, options, run_metadata)\n\u001b[0m\u001b[1;32m   1121\u001b[0m     \u001b[0;32melse\u001b[0m\u001b[0;34m:\u001b[0m\u001b[0;34m\u001b[0m\u001b[0m\n\u001b[1;32m   1122\u001b[0m       \u001b[0mresults\u001b[0m \u001b[0;34m=\u001b[0m \u001b[0;34m[\u001b[0m\u001b[0;34m]\u001b[0m\u001b[0;34m\u001b[0m\u001b[0m\n",
      "\u001b[0;32m/media/alecbranaa/8088a718-9240-4c37-92a5-1b9b8cec8375/miniconda3/envs/aind-dl/lib/python3.6/site-packages/tensorflow/python/client/session.py\u001b[0m in \u001b[0;36m_do_run\u001b[0;34m(self, handle, target_list, fetch_list, feed_dict, options, run_metadata)\u001b[0m\n\u001b[1;32m   1315\u001b[0m     \u001b[0;32mif\u001b[0m \u001b[0mhandle\u001b[0m \u001b[0;32mis\u001b[0m \u001b[0;32mNone\u001b[0m\u001b[0;34m:\u001b[0m\u001b[0;34m\u001b[0m\u001b[0m\n\u001b[1;32m   1316\u001b[0m       return self._do_call(_run_fn, self._session, feeds, fetches, targets,\n\u001b[0;32m-> 1317\u001b[0;31m                            options, run_metadata)\n\u001b[0m\u001b[1;32m   1318\u001b[0m     \u001b[0;32melse\u001b[0m\u001b[0;34m:\u001b[0m\u001b[0;34m\u001b[0m\u001b[0m\n\u001b[1;32m   1319\u001b[0m       \u001b[0;32mreturn\u001b[0m \u001b[0mself\u001b[0m\u001b[0;34m.\u001b[0m\u001b[0m_do_call\u001b[0m\u001b[0;34m(\u001b[0m\u001b[0m_prun_fn\u001b[0m\u001b[0;34m,\u001b[0m \u001b[0mself\u001b[0m\u001b[0;34m.\u001b[0m\u001b[0m_session\u001b[0m\u001b[0;34m,\u001b[0m \u001b[0mhandle\u001b[0m\u001b[0;34m,\u001b[0m \u001b[0mfeeds\u001b[0m\u001b[0;34m,\u001b[0m \u001b[0mfetches\u001b[0m\u001b[0;34m)\u001b[0m\u001b[0;34m\u001b[0m\u001b[0m\n",
      "\u001b[0;32m/media/alecbranaa/8088a718-9240-4c37-92a5-1b9b8cec8375/miniconda3/envs/aind-dl/lib/python3.6/site-packages/tensorflow/python/client/session.py\u001b[0m in \u001b[0;36m_do_call\u001b[0;34m(self, fn, *args)\u001b[0m\n\u001b[1;32m   1321\u001b[0m   \u001b[0;32mdef\u001b[0m \u001b[0m_do_call\u001b[0m\u001b[0;34m(\u001b[0m\u001b[0mself\u001b[0m\u001b[0;34m,\u001b[0m \u001b[0mfn\u001b[0m\u001b[0;34m,\u001b[0m \u001b[0;34m*\u001b[0m\u001b[0margs\u001b[0m\u001b[0;34m)\u001b[0m\u001b[0;34m:\u001b[0m\u001b[0;34m\u001b[0m\u001b[0m\n\u001b[1;32m   1322\u001b[0m     \u001b[0;32mtry\u001b[0m\u001b[0;34m:\u001b[0m\u001b[0;34m\u001b[0m\u001b[0m\n\u001b[0;32m-> 1323\u001b[0;31m       \u001b[0;32mreturn\u001b[0m \u001b[0mfn\u001b[0m\u001b[0;34m(\u001b[0m\u001b[0;34m*\u001b[0m\u001b[0margs\u001b[0m\u001b[0;34m)\u001b[0m\u001b[0;34m\u001b[0m\u001b[0m\n\u001b[0m\u001b[1;32m   1324\u001b[0m     \u001b[0;32mexcept\u001b[0m \u001b[0merrors\u001b[0m\u001b[0;34m.\u001b[0m\u001b[0mOpError\u001b[0m \u001b[0;32mas\u001b[0m \u001b[0me\u001b[0m\u001b[0;34m:\u001b[0m\u001b[0;34m\u001b[0m\u001b[0m\n\u001b[1;32m   1325\u001b[0m       \u001b[0mmessage\u001b[0m \u001b[0;34m=\u001b[0m \u001b[0mcompat\u001b[0m\u001b[0;34m.\u001b[0m\u001b[0mas_text\u001b[0m\u001b[0;34m(\u001b[0m\u001b[0me\u001b[0m\u001b[0;34m.\u001b[0m\u001b[0mmessage\u001b[0m\u001b[0;34m)\u001b[0m\u001b[0;34m\u001b[0m\u001b[0m\n",
      "\u001b[0;32m/media/alecbranaa/8088a718-9240-4c37-92a5-1b9b8cec8375/miniconda3/envs/aind-dl/lib/python3.6/site-packages/tensorflow/python/client/session.py\u001b[0m in \u001b[0;36m_run_fn\u001b[0;34m(session, feed_dict, fetch_list, target_list, options, run_metadata)\u001b[0m\n\u001b[1;32m   1300\u001b[0m           return tf_session.TF_Run(session, options,\n\u001b[1;32m   1301\u001b[0m                                    \u001b[0mfeed_dict\u001b[0m\u001b[0;34m,\u001b[0m \u001b[0mfetch_list\u001b[0m\u001b[0;34m,\u001b[0m \u001b[0mtarget_list\u001b[0m\u001b[0;34m,\u001b[0m\u001b[0;34m\u001b[0m\u001b[0m\n\u001b[0;32m-> 1302\u001b[0;31m                                    status, run_metadata)\n\u001b[0m\u001b[1;32m   1303\u001b[0m \u001b[0;34m\u001b[0m\u001b[0m\n\u001b[1;32m   1304\u001b[0m     \u001b[0;32mdef\u001b[0m \u001b[0m_prun_fn\u001b[0m\u001b[0;34m(\u001b[0m\u001b[0msession\u001b[0m\u001b[0;34m,\u001b[0m \u001b[0mhandle\u001b[0m\u001b[0;34m,\u001b[0m \u001b[0mfeed_dict\u001b[0m\u001b[0;34m,\u001b[0m \u001b[0mfetch_list\u001b[0m\u001b[0;34m)\u001b[0m\u001b[0;34m:\u001b[0m\u001b[0;34m\u001b[0m\u001b[0m\n",
      "\u001b[0;31mKeyboardInterrupt\u001b[0m: "
     ]
    }
   ],
   "source": [
    "model.fit(xtr, y, batch_size=512, epochs=30, validation_data=(xval, yval),\n",
    "          callbacks=[ckpt, roc], verbose=2)"
   ]
  },
  {
   "cell_type": "code",
   "execution_count": 6,
   "metadata": {},
   "outputs": [
    {
     "name": "stdout",
     "output_type": "stream",
     "text": [
      "Predicting with model...\n",
      "Saving to submission file...\n"
     ]
    }
   ],
   "source": [
    "#0.9828\n",
    "predict_and_save(model, xte, '07', 'bidlstm_07_9897')"
   ]
  },
  {
   "cell_type": "markdown",
   "metadata": {},
   "source": [
    "## Run Bidirectional GRU model with Max Pooling"
   ]
  },
  {
   "cell_type": "code",
   "execution_count": null,
   "metadata": {
    "collapsed": true
   },
   "outputs": [],
   "source": [
    "model = BidMaxPoolGru(maxlen, max_features, embed_size, embedding_vector)\n",
    "model.fit(xtr, y, batch_size=1024, epochs=20, validation_data=(xval, yval),\n",
    "          callbacks=[ckpt, roc], verbose=2)\n"
   ]
  },
  {
   "cell_type": "markdown",
   "metadata": {
    "collapsed": true
   },
   "source": [
    "## Predict Model and Save Submission to CSV"
   ]
  },
  {
   "cell_type": "code",
   "execution_count": null,
   "metadata": {
    "collapsed": true
   },
   "outputs": [],
   "source": [
    "#0.9829\n",
    "predict_and_save(model, xte, '05', 'bidgru_04')"
   ]
  },
  {
   "cell_type": "code",
   "execution_count": null,
   "metadata": {
    "collapsed": true
   },
   "outputs": [],
   "source": []
  }
 ],
 "metadata": {
  "kernelspec": {
   "display_name": "Python 3",
   "language": "python",
   "name": "python3"
  },
  "language_info": {
   "codemirror_mode": {
    "name": "ipython",
    "version": 3
   },
   "file_extension": ".py",
   "mimetype": "text/x-python",
   "name": "python",
   "nbconvert_exporter": "python",
   "pygments_lexer": "ipython3",
   "version": "3.6.3"
  },
  "widgets": {
   "state": {},
   "version": "1.1.2"
  }
 },
 "nbformat": 4,
 "nbformat_minor": 2
}
