{
 "cells": [
  {
   "cell_type": "markdown",
   "metadata": {},
   "source": [
    "# GloVe \n",
    "\n"
   ]
  },
  {
   "cell_type": "code",
   "execution_count": 1,
   "metadata": {},
   "outputs": [
    {
     "name": "stderr",
     "output_type": "stream",
     "text": [
      "Using TensorFlow backend.\n"
     ]
    },
    {
     "name": "stdout",
     "output_type": "stream",
     "text": [
      "[[ 0.          0.          0.         ...,  0.          0.          0.        ]\n",
      " [ 0.27204001 -0.06203    -0.1884     ...,  0.13015001 -0.18317001  0.1323    ]\n",
      " [ 0.31924     0.06316    -0.27858001 ...,  0.082745    0.097801\n",
      "   0.25044999]\n",
      " ..., \n",
      " [ 0.          0.          0.         ...,  0.          0.          0.        ]\n",
      " [ 0.          0.          0.         ...,  0.          0.          0.        ]\n",
      " [-0.37496999 -0.37419999  0.067547   ..., -0.026452   -0.23654    -0.037388  ]]\n",
      "Train on 143613 samples, validate on 15958 samples\n",
      "Epoch 1/20\n",
      "143360/143613 [============================>.] - ETA: 0s - loss: 0.0755 - acc: 0.9758\n",
      "Epoch 00001: val_loss improved from inf to 0.04957, saving model to .model.hdf5\n",
      "143613/143613 [==============================] - 174s 1ms/step - loss: 0.0755 - acc: 0.9758 - val_loss: 0.0496 - val_acc: 0.9819\n",
      "Epoch 2/20\n",
      "143360/143613 [============================>.] - ETA: 0s - loss: 0.0489 - acc: 0.9819\n",
      "Epoch 00002: val_loss improved from 0.04957 to 0.04544, saving model to .model.hdf5\n",
      "143613/143613 [==============================] - 174s 1ms/step - loss: 0.0489 - acc: 0.9819 - val_loss: 0.0454 - val_acc: 0.9825\n",
      "Epoch 3/20\n",
      "143360/143613 [============================>.] - ETA: 0s - loss: 0.0459 - acc: 0.9826\n",
      "Epoch 00003: val_loss improved from 0.04544 to 0.04388, saving model to .model.hdf5\n",
      "143613/143613 [==============================] - 173s 1ms/step - loss: 0.0459 - acc: 0.9826 - val_loss: 0.0439 - val_acc: 0.9834\n",
      "Epoch 4/20\n",
      "143360/143613 [============================>.] - ETA: 0s - loss: 0.0434 - acc: 0.9832\n",
      "Epoch 00004: val_loss improved from 0.04388 to 0.04307, saving model to .model.hdf5\n",
      "143613/143613 [==============================] - 174s 1ms/step - loss: 0.0435 - acc: 0.9832 - val_loss: 0.0431 - val_acc: 0.9836\n",
      "Epoch 5/20\n",
      "143360/143613 [============================>.] - ETA: 0s - loss: 0.0415 - acc: 0.9840\n",
      "Epoch 00005: val_loss improved from 0.04307 to 0.04211, saving model to .model.hdf5\n",
      "143613/143613 [==============================] - 173s 1ms/step - loss: 0.0416 - acc: 0.9840 - val_loss: 0.0421 - val_acc: 0.9842\n",
      "Epoch 6/20\n",
      "143360/143613 [============================>.] - ETA: 0s - loss: 0.0401 - acc: 0.9843\n",
      "Epoch 00006: val_loss improved from 0.04211 to 0.04120, saving model to .model.hdf5\n",
      "143613/143613 [==============================] - 173s 1ms/step - loss: 0.0401 - acc: 0.9843 - val_loss: 0.0412 - val_acc: 0.9842\n",
      "Epoch 7/20\n",
      "143360/143613 [============================>.] - ETA: 0s - loss: 0.0386 - acc: 0.9848\n",
      "Epoch 00007: val_loss did not improve\n",
      "143613/143613 [==============================] - 173s 1ms/step - loss: 0.0386 - acc: 0.9848 - val_loss: 0.0418 - val_acc: 0.9841\n",
      "Epoch 8/20\n",
      "143360/143613 [============================>.] - ETA: 0s - loss: 0.0373 - acc: 0.9852\n",
      "Epoch 00008: val_loss did not improve\n",
      "143613/143613 [==============================] - 173s 1ms/step - loss: 0.0373 - acc: 0.9852 - val_loss: 0.0414 - val_acc: 0.9845\n",
      "Epoch 9/20\n",
      "143360/143613 [============================>.] - ETA: 0s - loss: 0.0360 - acc: 0.9856\n",
      "Epoch 00009: val_loss improved from 0.04120 to 0.04103, saving model to .model.hdf5\n",
      "143613/143613 [==============================] - 174s 1ms/step - loss: 0.0360 - acc: 0.9856 - val_loss: 0.0410 - val_acc: 0.9843\n",
      "Epoch 10/20\n",
      "143360/143613 [============================>.] - ETA: 0s - loss: 0.0351 - acc: 0.9861\n",
      "Epoch 00010: val_loss did not improve\n",
      "143613/143613 [==============================] - 173s 1ms/step - loss: 0.0351 - acc: 0.9861 - val_loss: 0.0417 - val_acc: 0.9842\n",
      "Epoch 11/20\n",
      "143360/143613 [============================>.] - ETA: 0s - loss: 0.0335 - acc: 0.9864\n",
      "Epoch 00011: val_loss did not improve\n",
      "143613/143613 [==============================] - 174s 1ms/step - loss: 0.0335 - acc: 0.9865 - val_loss: 0.0420 - val_acc: 0.9845\n",
      "Epoch 12/20\n",
      "143360/143613 [============================>.] - ETA: 0s - loss: 0.0318 - acc: 0.9870\n",
      "Epoch 00012: val_loss did not improve\n",
      "143613/143613 [==============================] - 174s 1ms/step - loss: 0.0318 - acc: 0.9870 - val_loss: 0.0421 - val_acc: 0.9847\n",
      "Predicting with model...\n",
      "Saving to submission file...\n"
     ]
    }
   ],
   "source": [
    "import numpy as np\n",
    "import pandas as pd\n",
    "from keras.callbacks import EarlyStopping, ModelCheckpoint\n",
    "from bidlstm import BidLstm\n",
    "from helpers import make_df, make_glovevec\n",
    "\n",
    "np.random.seed(7)\n",
    "\n",
    "max_features = 100000\n",
    "maxlen = 150\n",
    "embed_size = 300\n",
    "list_classes = [\"toxic\", \"severe_toxic\", \"obscene\", \"threat\", \"insult\",\n",
    "                \"identity_hate\"]\n",
    "\n",
    "xtr, xte, y, word_index = make_df(\"./input/train.csv\",\n",
    "                                  \"./input/test.csv\",\n",
    "                                  max_features, maxlen, list_classes)\n",
    "\n",
    "embedding_vector = make_glovevec(\"./input/glove.840B.300d.txt\",\n",
    "                                 max_features, embed_size, word_index)\n",
    "\n",
    "model = BidLstm(maxlen, max_features, embed_size, embedding_vector)\n",
    "model.compile(loss='binary_crossentropy', optimizer='adam',\n",
    "              metrics=['accuracy'])\n",
    "file_path = \".model.hdf5\"\n",
    "ckpt = ModelCheckpoint(file_path, monitor='val_loss', verbose=1,\n",
    "                       save_best_only=True, mode='min')\n",
    "early = EarlyStopping(monitor=\"val_loss\", mode=\"min\", patience=3)\n",
    "model.fit(xtr, y, batch_size=512, epochs=20, validation_split=0.1, callbacks=[ckpt, early])\n",
    "model.load_weights(file_path)\n",
    "print(\"Predicting with model...\")\n",
    "y_test = model.predict(xte)\n",
    "sample_submission = pd.read_csv(\"./input/sample_submission.csv\")\n",
    "sample_submission[list_classes] = y_test\n",
    "print(\"Saving to submission file...\")\n",
    "sample_submission.to_csv(\"./submissions/bidlstm_05.csv\", index=False)\n",
    "\n",
    "    "
   ]
  },
  {
   "cell_type": "markdown",
   "metadata": {},
   "source": [
    "###### "
   ]
  },
  {
   "cell_type": "code",
   "execution_count": null,
   "metadata": {
    "collapsed": true
   },
   "outputs": [],
   "source": []
  },
  {
   "cell_type": "code",
   "execution_count": null,
   "metadata": {
    "collapsed": true
   },
   "outputs": [],
   "source": []
  }
 ],
 "metadata": {
  "kernelspec": {
   "display_name": "Python 3",
   "language": "python",
   "name": "python3"
  },
  "language_info": {
   "codemirror_mode": {
    "name": "ipython",
    "version": 3
   },
   "file_extension": ".py",
   "mimetype": "text/x-python",
   "name": "python",
   "nbconvert_exporter": "python",
   "pygments_lexer": "ipython3",
   "version": "3.6.3"
  },
  "widgets": {
   "state": {},
   "version": "1.1.2"
  }
 },
 "nbformat": 4,
 "nbformat_minor": 2
}
