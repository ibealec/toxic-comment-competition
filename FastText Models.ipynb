{
 "cells": [
  {
   "cell_type": "markdown",
   "metadata": {},
   "source": [
    "# FastText Models"
   ]
  },
  {
   "cell_type": "code",
   "execution_count": null,
   "metadata": {
    "collapsed": true
   },
   "outputs": [],
   "source": [
    "import numpy as np\n",
    "import pandas as pd\n",
    "\n",
    "from architectures import BidAttentionLstm, BidMaxPoolGru, BidConvPoolGru\n",
    "from helpers import make_df, make_embed_vec, predict_and_save\n",
    "\n",
    "from sklearn.model_selection import train_test_split\n",
    "\n",
    "np.random.seed(7)\n",
    "\n",
    "max_features = 30000\n",
    "maxlen = 150\n",
    "embed_size = 300\n",
    "list_classes = [\"toxic\", \"severe_toxic\", \"obscene\", \"threat\", \"insult\",\n",
    "                \"identity_hate\"]\n",
    "\n",
    "xtr, xte, y, word_index, tokenizer = make_df(\"./input/train.csv\",\n",
    "                                  \"./input/test.csv\",\n",
    "                                  max_features, maxlen, list_classes)\n",
    "\n",
    "\n",
    "\n",
    "embedding_vector = make_embed_vec(\"./input/crawl-300d-2M.vec\",\n",
    "                                 max_features, embed_size, word_index, tokenizer)\n",
    "\n",
    "[xtr, xval, y, yval] = train_test_split(xtr, y, train_size=0.90, random_state=233)"
   ]
  },
  {
   "cell_type": "markdown",
   "metadata": {},
   "source": [
    "## Callbacks"
   ]
  },
  {
   "cell_type": "code",
   "execution_count": null,
   "metadata": {
    "collapsed": true
   },
   "outputs": [],
   "source": [
    "from helpers import RocAucEvaluation\n",
    "from keras.callbacks import EarlyStopping, ModelCheckpoint\n",
    "\n",
    "file_path = \"./modelckpts/.model.{epoch:02d}.hdf5\"\n",
    "\n",
    "ckpt = ModelCheckpoint(file_path, monitor='val_loss', verbose=2,\n",
    "                        mode='min')\n",
    "# I've decided not to use Early Stopping, since it doesn't monitor ROC/AUC score.\n",
    "early = EarlyStopping(monitor=\"val_loss\", mode=\"min\", patience=3)\n",
    "roc = RocAucEvaluation(validation_data=(xval, yval), interval=1)"
   ]
  },
  {
   "cell_type": "markdown",
   "metadata": {},
   "source": [
    "# CapsNet"
   ]
  },
  {
   "cell_type": "code",
   "execution_count": null,
   "metadata": {
    "collapsed": true
   },
   "outputs": [],
   "source": [
    "from architectures import CapsuleModel\n",
    "\n",
    "model = CapsuleModel(maxlen, max_features, embed_size, embedding_vector)"
   ]
  },
  {
   "cell_type": "code",
   "execution_count": null,
   "metadata": {
    "collapsed": true
   },
   "outputs": [],
   "source": [
    "model.fit(xtr, y, batch_size=512, epochs=10, validation_data=(xval, yval),\n",
    "          callbacks=[ckpt, roc], verbose=1)"
   ]
  },
  {
   "cell_type": "code",
   "execution_count": null,
   "metadata": {
    "collapsed": true
   },
   "outputs": [],
   "source": [
    "predict_and_save(model, xte, '09', 'capsnet_01')"
   ]
  },
  {
   "cell_type": "markdown",
   "metadata": {
    "collapsed": true
   },
   "source": [
    "# Bidirectional LSTM with Attention"
   ]
  },
  {
   "cell_type": "code",
   "execution_count": null,
   "metadata": {
    "collapsed": true
   },
   "outputs": [],
   "source": [
    "from architectures import BidAttentionLstm\n",
    "model = BidAttentionLstm(maxlen, max_features, embed_size, embedding_vector)"
   ]
  },
  {
   "cell_type": "code",
   "execution_count": null,
   "metadata": {
    "collapsed": true
   },
   "outputs": [],
   "source": [
    "model.fit(xtr, y, batch_size=512, epochs=30, validation_data=(xval, yval),\n",
    "          callbacks=[ckpt, roc], verbose=1)"
   ]
  },
  {
   "cell_type": "code",
   "execution_count": null,
   "metadata": {
    "collapsed": true
   },
   "outputs": [],
   "source": [
    "predict_and_save(model, xte, '03', 'ft_bidlstm_02')"
   ]
  },
  {
   "cell_type": "markdown",
   "metadata": {},
   "source": [
    "# Bidirectional GRU model with Max Pooling"
   ]
  },
  {
   "cell_type": "code",
   "execution_count": null,
   "metadata": {
    "collapsed": true
   },
   "outputs": [],
   "source": [
    "model = BidMaxPoolGru(maxlen, max_features, embed_size, embedding_vector)\n",
    "model.fit(xtr, y, batch_size=1024, epochs=20, validation_data=(xval, yval),\n",
    "          callbacks=[ckpt, roc], verbose=2)"
   ]
  },
  {
   "cell_type": "code",
   "execution_count": null,
   "metadata": {
    "collapsed": true
   },
   "outputs": [],
   "source": [
    "predict_and_save(model, xte, '03', 'ft_bidgru_02')"
   ]
  },
  {
   "cell_type": "markdown",
   "metadata": {},
   "source": [
    "# ConvCapsule"
   ]
  },
  {
   "cell_type": "code",
   "execution_count": null,
   "metadata": {
    "collapsed": true
   },
   "outputs": [],
   "source": [
    "from architectures import ConvCapsule\n",
    "model = ConvCapsule(maxlen, max_features, embed_size, embedding_vector)\n",
    "model.fit(xtr, y, batch_size=64, epochs=10, validation_data=(xval, yval),\n",
    "          callbacks=[ckpt, roc], verbose=1)"
   ]
  },
  {
   "cell_type": "code",
   "execution_count": null,
   "metadata": {
    "collapsed": true
   },
   "outputs": [],
   "source": [
    "predict_and_save(model, xte, '08', 'ft_convcapsule_01')"
   ]
  }
 ],
 "metadata": {
  "kernelspec": {
   "display_name": "Python 3",
   "language": "python",
   "name": "python3"
  },
  "language_info": {
   "codemirror_mode": {
    "name": "ipython",
    "version": 3
   },
   "file_extension": ".py",
   "mimetype": "text/x-python",
   "name": "python",
   "nbconvert_exporter": "python",
   "pygments_lexer": "ipython3",
   "version": "3.6.3"
  }
 },
 "nbformat": 4,
 "nbformat_minor": 2
}
